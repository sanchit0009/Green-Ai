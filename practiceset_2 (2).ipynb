{
 "cells": [
  {
   "cell_type": "code",
   "execution_count": 8,
   "id": "165ba9e7-39b5-4326-b995-8c3d9d56eeec",
   "metadata": {},
   "outputs": [
    {
     "name": "stdout",
     "output_type": "stream",
     "text": [
      "Name of Student :Sanchit Roll no :28 marks of  student : 90\n",
      "Name of Student :Hari Roll no :1 marks of  student : 93\n",
      "Name of Student :shiv Roll no :9 marks of  student : 99\n"
     ]
    }
   ],
   "source": [
    "#define class Student and with attributes name,roll no and marks include display method for displayng infor\n",
    "class Student:\n",
    "    def __init__(self,name,roll_no,marks):\n",
    "        self.name=name;\n",
    "        self.roll_no=roll_no;\n",
    "        self.marks=marks;\n",
    "    def display(self):\n",
    "       print(f\"Name of Student :{self.name} Roll no :{self.roll_no} marks of  student : {self.marks}\")\n",
    "\n",
    "obj=Student(\"Sanchit\",28,90)\n",
    "obj.display()\n",
    "obj2=Student(\"Hari\",1,93)\n",
    "obj3=Student(\"shiv\",9,99)\n",
    "obj2.display()\n",
    "obj3.display()\n",
    "    "
   ]
  },
  {
   "cell_type": "code",
   "execution_count": 11,
   "id": "d41f3b77-18a2-44e4-bdf5-d9cceac32c29",
   "metadata": {},
   "outputs": [
    {
     "name": "stdout",
     "output_type": "stream",
     "text": [
      "Addition of num1 and num2 90\n",
      "Substraction of num1 and num2 -10\n",
      "Division of num1 and num2 0.8\n",
      "Addition of num1 and num2 2000\n"
     ]
    }
   ],
   "source": [
    "#Create class calculator and methods add,div,sub,multiple\n",
    "class calculator:\n",
    "    \n",
    "    def __init__(self,num1,num2):\n",
    "        self.num1=num1;\n",
    "        self.num2=num2;\n",
    "    def add(self):\n",
    "        print(f\"Addition of num1 and num2\",self.num1+self.num2)\n",
    "    def sub(self):\n",
    "        print(f\"Substraction of num1 and num2\",self.num1-self.num2)\n",
    "    def div(self):\n",
    "        print(f\"Division of num1 and num2\",self.num1/self.num2)\n",
    "    def mul(self):\n",
    "        print(f\"Addition of num1 and num2\",self.num1*self.num2)\n",
    "\n",
    "first=calculator(40,50)\n",
    "first.add()\n",
    "first.sub()\n",
    "first.div()\n",
    "first.mul()"
   ]
  },
  {
   "cell_type": "code",
   "execution_count": 3,
   "id": "bb85b276-c8db-4a90-9846-ab8a319ccc7b",
   "metadata": {},
   "outputs": [
    {
     "name": "stdout",
     "output_type": "stream",
     "text": [
      "model name is: fortuner\n",
      "FuelType is: Diesel\n",
      "color is: Black\n",
      "price is: 5000000\n",
      "year of model: 2022\n"
     ]
    }
   ],
   "source": [
    "#Inheritance Vehicle class and car sub class\n",
    "class vehicle:\n",
    "    def __init__(self,model,fueltype,color):\n",
    "        self.model=model;\n",
    "        self.fueltype=fueltype;\n",
    "        self.color=color;\n",
    "\n",
    "class car(vehicle):\n",
    "    def __init__(self,model,fueltype,color,price,year):\n",
    "        super().__init__(model,fueltype,color)\n",
    "        self.price=price;\n",
    "        self.year=year;\n",
    "\n",
    "    def display(self):\n",
    "         print(\"model name is:\",self.model)\n",
    "         print(\"FuelType is:\",self.fueltype)\n",
    "         print(\"color is:\",self.color)\n",
    "         print(\"price is:\",self.price)\n",
    "         print(\"year of model:\",self.year)\n",
    "\n",
    "obj=car(\"fortuner\",\"Diesel\",\"Black\",5000000,2022)\n",
    "obj.display()\n",
    "        "
   ]
  },
  {
   "cell_type": "code",
   "execution_count": 11,
   "id": "aca364fd-aac9-450d-836f-636e8ad8108a",
   "metadata": {},
   "outputs": [
    {
     "name": "stdout",
     "output_type": "stream",
     "text": [
      "constructor is created  object1\n",
      "constructor is created  object2\n",
      "Destructor is called object1\n",
      "Destructor is called object2\n"
     ]
    }
   ],
   "source": [
    "#Constructor and Destructor\n",
    "class demo:\n",
    "    def __init__(self,name):\n",
    "        \n",
    "      self.name=name;\n",
    "      print(\"constructor is created \",self.name);\n",
    "\n",
    "\n",
    "    def __del__(self):\n",
    "        print(\"Destructor is called\",self.name);\n",
    "\n",
    "obj1=demo(\"object1\")\n",
    "obj2=demo(\"object2\")\n",
    "del obj1\n",
    "del obj2"
   ]
  },
  {
   "cell_type": "code",
   "execution_count": 1,
   "id": "a9d00d14-8669-45ca-908b-b39512857d4c",
   "metadata": {},
   "outputs": [
    {
     "name": "stdout",
     "output_type": "stream",
     "text": [
      "30\n"
     ]
    }
   ],
   "source": [
    "# + operator overloading\n",
    "class Value:\n",
    "    def __init__(self, num):\n",
    "        self.num = num\n",
    "\n",
    "    def __add__(self, other):\n",
    "        return self.num + other.num\n",
    "\n",
    "a = Value(10)\n",
    "b = Value(20)\n",
    "print(a + b)"
   ]
  },
  {
   "cell_type": "code",
   "execution_count": 4,
   "id": "2e4fe5e1-ec9e-4910-b8ed-0781e1a2c11b",
   "metadata": {},
   "outputs": [
    {
     "name": "stdin",
     "output_type": "stream",
     "text": [
      "enter First number 40\n",
      "Enter second Number 50\n",
      "Choose operator +,-,*,/ +\n"
     ]
    },
    {
     "name": "stdout",
     "output_type": "stream",
     "text": [
      "90\n"
     ]
    }
   ],
   "source": [
    "#mini calculator with function and if-else\n",
    "def calc(a, b, op):\n",
    "    if op == '+':\n",
    "        return a + b\n",
    "    elif op == '-':\n",
    "        return a - b\n",
    "    elif op == '*':\n",
    "        return a * b\n",
    "    elif op == '/':\n",
    "        return a / b\n",
    "    else:\n",
    "        return 'Invalid'\n",
    "\n",
    "x = int(input(\"enter First number\"))\n",
    "y = int(input(\"Enter second Number\"))\n",
    "o = input(\"Choose operator +,-,*,/\")\n",
    "print(calc(x, y, o))"
   ]
  },
  {
   "cell_type": "code",
   "execution_count": 5,
   "id": "d5cc5fc5-a73e-466f-b99e-95ff74128f98",
   "metadata": {},
   "outputs": [
    {
     "name": "stdin",
     "output_type": "stream",
     "text": [
      "Username:  admin\n",
      "Password:  1234\n"
     ]
    },
    {
     "name": "stdout",
     "output_type": "stream",
     "text": [
      "Login successful\n"
     ]
    }
   ],
   "source": [
    "#Basic login system\n",
    "user = \"admin\"\n",
    "pwd = \"1234\"\n",
    "\n",
    "u = input(\"Username: \")\n",
    "p = input(\"Password: \")\n",
    "\n",
    "if u == user and p == pwd:\n",
    "    print(\"Login successful\")\n",
    "else:\n",
    "    print(\"Login failed\")"
   ]
  },
  {
   "cell_type": "code",
   "execution_count": 6,
   "id": "c052aefa-cbde-4f18-9280-ebd9908e8267",
   "metadata": {},
   "outputs": [
    {
     "name": "stdin",
     "output_type": "stream",
     "text": [
      "Enter temp in Celsius:  45\n"
     ]
    },
    {
     "name": "stdout",
     "output_type": "stream",
     "text": [
      "Fahrenheit: 113.0\n"
     ]
    }
   ],
   "source": [
    "#conversion celsius to Fahrenheit\n",
    "c = float(input(\"Enter temp in Celsius: \"))\n",
    "f = (c * 9/5) + 32\n",
    "print(\"Fahrenheit:\", f)"
   ]
  },
  {
   "cell_type": "code",
   "execution_count": 7,
   "id": "6d33a049-6d0b-4284-b361-0c7aab127617",
   "metadata": {},
   "outputs": [
    {
     "name": "stdout",
     "output_type": "stream",
     "text": [
      "Balance: 400\n"
     ]
    }
   ],
   "source": [
    "#Bank account simulation\n",
    "class Bank:\n",
    "    def __init__(self):\n",
    "        self.bal = 0\n",
    "\n",
    "    def deposit(self, amt):\n",
    "        self.bal += amt\n",
    "\n",
    "    def withdraw(self, amt):\n",
    "        if self.bal >= amt:\n",
    "            self.bal -= amt\n",
    "        else:\n",
    "            print(\"Insufficient funds\")\n",
    "\n",
    "    def check(self):\n",
    "        print(\"Balance:\", self.bal)\n",
    "\n",
    "b = Bank()\n",
    "b.deposit(500)\n",
    "b.withdraw(100)\n",
    "b.check()"
   ]
  },
  {
   "cell_type": "code",
   "execution_count": 8,
   "id": "7124ce2a-baa5-4266-8edd-b872e893ae66",
   "metadata": {},
   "outputs": [
    {
     "name": "stdin",
     "output_type": "stream",
     "text": [
      "Enter sentence:  Hii my name is Sanchit\n"
     ]
    },
    {
     "name": "stdout",
     "output_type": "stream",
     "text": [
      "{'Hii': 1, 'my': 1, 'name': 1, 'is': 1, 'Sanchit': 1}\n"
     ]
    }
   ],
   "source": [
    "#word frequency in a sentence\n",
    "s = input(\"Enter sentence: \")\n",
    "words = s.split()\n",
    "freq = {}\n",
    "\n",
    "for w in words:\n",
    "    if w in freq:\n",
    "        freq[w] += 1\n",
    "    else:\n",
    "        freq[w] = 1\n",
    "\n",
    "print(freq)"
   ]
  },
  {
   "cell_type": "code",
   "execution_count": null,
   "id": "621049c0-2529-40ae-bbd9-947e5db5f6e6",
   "metadata": {},
   "outputs": [],
   "source": []
  }
 ],
 "metadata": {
  "kernelspec": {
   "display_name": "Python 3 (ipykernel)",
   "language": "python",
   "name": "python3"
  },
  "language_info": {
   "codemirror_mode": {
    "name": "ipython",
    "version": 3
   },
   "file_extension": ".py",
   "mimetype": "text/x-python",
   "name": "python",
   "nbconvert_exporter": "python",
   "pygments_lexer": "ipython3",
   "version": "3.12.7"
  }
 },
 "nbformat": 4,
 "nbformat_minor": 5
}
