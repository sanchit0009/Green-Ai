{
 "cells": [
  {
   "cell_type": "code",
   "execution_count": 6,
   "id": "8c97dae0-afd7-4f22-b974-ae20e08a2b24",
   "metadata": {},
   "outputs": [
    {
     "name": "stdout",
     "output_type": "stream",
     "text": [
      "7\n",
      "[1, 2, 3.4, 5, 6.9, True, False, 9]\n",
      "[1, 2, 3.4, 5, 6.9, True, False, 9, ['sanchit', 'Dinesh', 'Narayan', 18, 27]]\n",
      "9\n"
     ]
    }
   ],
   "source": [
    "#List methods\n",
    "#Append()\n",
    "mylist=[1,2,3.4,5,6.9,True,False]\n",
    "print(len(mylist))\n",
    "mylist.append(9)\n",
    "print(mylist)\n",
    "mylist.append([\"sanchit\",\"Dinesh\",\"Narayan\",18,27])\n",
    "print(mylist)\n",
    "print(len(mylist))"
   ]
  },
  {
   "cell_type": "code",
   "execution_count": 10,
   "id": "d1806a10-3f3f-4873-a701-b4704f106374",
   "metadata": {},
   "outputs": [
    {
     "name": "stdout",
     "output_type": "stream",
     "text": [
      "[36, 1, 36, 2, 3.4, 5, 6.9, True, False, 9, ['sanchit', 'Dinesh', 'Narayan', 18, 27]]\n"
     ]
    }
   ],
   "source": [
    "#insert method\n",
    "mylist.insert(0,36)\n",
    "print(mylist)"
   ]
  },
  {
   "cell_type": "code",
   "execution_count": 11,
   "id": "f23abd32-27de-4215-a457-827d69678cab",
   "metadata": {},
   "outputs": [
    {
     "data": {
      "text/plain": [
       "2"
      ]
     },
     "execution_count": 11,
     "metadata": {},
     "output_type": "execute_result"
    }
   ],
   "source": [
    "#pop\n",
    "mylist.pop(3)"
   ]
  },
  {
   "cell_type": "code",
   "execution_count": 12,
   "id": "6337e65a-12ba-4876-b3c6-95898509b859",
   "metadata": {},
   "outputs": [
    {
     "data": {
      "text/plain": [
       "[36,\n",
       " 1,\n",
       " 36,\n",
       " 3.4,\n",
       " 5,\n",
       " 6.9,\n",
       " True,\n",
       " False,\n",
       " 9,\n",
       " ['sanchit', 'Dinesh', 'Narayan', 18, 27]]"
      ]
     },
     "execution_count": 12,
     "metadata": {},
     "output_type": "execute_result"
    }
   ],
   "source": [
    "mylist"
   ]
  },
  {
   "cell_type": "code",
   "execution_count": 13,
   "id": "0d2ae687-9835-4031-a864-5026fd70a3f2",
   "metadata": {},
   "outputs": [
    {
     "name": "stdout",
     "output_type": "stream",
     "text": [
      "[36, 1, 36, 3.4, 5, True, False, 9, ['sanchit', 'Dinesh', 'Narayan', 18, 27]]\n"
     ]
    }
   ],
   "source": [
    "#Remove method\n",
    "mylist.remove(6.9)\n",
    "print(mylist)"
   ]
  },
  {
   "cell_type": "code",
   "execution_count": 14,
   "id": "e2a63d3c-ae08-45fd-babc-574a5f8169eb",
   "metadata": {},
   "outputs": [
    {
     "name": "stdout",
     "output_type": "stream",
     "text": [
      "[36, 1, 36, 3.4, 5, True, False, 9, ['sanchit', 'Dinesh', 'Narayan', 18, 27]]\n"
     ]
    }
   ],
   "source": [
    "#Copy Method\n",
    "List2=mylist.copy()\n",
    "print(List2)"
   ]
  },
  {
   "cell_type": "code",
   "execution_count": 15,
   "id": "e5714896-ac99-467b-b0e2-bee17cf99de8",
   "metadata": {},
   "outputs": [
    {
     "name": "stdout",
     "output_type": "stream",
     "text": [
      "[36, 1, 36, 3.4, 5, True, False, 9, ['sanchit', 'Dinesh', 'Narayan', 18, 27], 'abc', 'xyz']\n"
     ]
    }
   ],
   "source": [
    "#merging\n",
    "List3=[\"abc\",\"xyz\"]\n",
    "new_list=List2+List3\n",
    "print(new_list)"
   ]
  },
  {
   "cell_type": "code",
   "execution_count": 16,
   "id": "c94d501f-2a0c-4414-b281-b0381982dda3",
   "metadata": {},
   "outputs": [
    {
     "name": "stdout",
     "output_type": "stream",
     "text": [
      "['abc', 'xyz', 36, 1, 36, 3.4, 5, True, False, 9, ['sanchit', 'Dinesh', 'Narayan', 18, 27]]\n"
     ]
    }
   ],
   "source": [
    "#Extend method\n",
    "List3.extend(mylist)\n",
    "print(List3)"
   ]
  },
  {
   "cell_type": "code",
   "execution_count": 17,
   "id": "8cdf5403-f89f-45fb-bb33-8cbfad5e6f07",
   "metadata": {},
   "outputs": [
    {
     "name": "stdout",
     "output_type": "stream",
     "text": [
      "[]\n"
     ]
    }
   ],
   "source": [
    "#Clear method\n",
    "new_list.clear()\n",
    "print(new_list)"
   ]
  },
  {
   "cell_type": "code",
   "execution_count": 21,
   "id": "df6edc82-4598-4702-a8ed-b696db884507",
   "metadata": {},
   "outputs": [
    {
     "name": "stdout",
     "output_type": "stream",
     "text": [
      "<class 'str'>\n",
      "sanchit\n",
      "SANCHIT\n",
      "Sanchit\n",
      "My name is khan\n",
      "My Name Is Khan\n"
     ]
    }
   ],
   "source": [
    "#Strings \n",
    "Name=\"Sanchit\"\n",
    "print(type(Name))\n",
    "print(Name.lower())\n",
    "print(Name.upper())\n",
    "print(Name.title())\n",
    "str=\"My name is khan\"\n",
    "print(str.capitalize())\n",
    "print(str.title())"
   ]
  },
  {
   "cell_type": "code",
   "execution_count": 23,
   "id": "045fafb5-f15f-4b6b-8609-de6b24f3b452",
   "metadata": {},
   "outputs": [
    {
     "data": {
      "text/plain": [
       "'Sote'"
      ]
     },
     "execution_count": 23,
     "metadata": {},
     "output_type": "execute_result"
    }
   ],
   "source": [
    "#Replace\n",
    "str1=\"Gote\"\n",
    "str1=str1.replace(\"G\",\"S\")\n",
    "str1"
   ]
  },
  {
   "cell_type": "code",
   "execution_count": 25,
   "id": "e53c3f13-8958-430b-a7ba-5782cfeeca4b",
   "metadata": {},
   "outputs": [
    {
     "data": {
      "text/plain": [
       "5"
      ]
     },
     "execution_count": 25,
     "metadata": {},
     "output_type": "execute_result"
    }
   ],
   "source": [
    "#Count method\n",
    "str2=\"ki ki ki ki kiran\"\n",
    "str2.count(\"ki\")"
   ]
  },
  {
   "cell_type": "code",
   "execution_count": 29,
   "id": "5c035321-7a20-4183-be65-c271b1a58b34",
   "metadata": {},
   "outputs": [
    {
     "name": "stdout",
     "output_type": "stream",
     "text": [
      "True\n",
      "False\n"
     ]
    }
   ],
   "source": [
    "print(str1.startswith(\"S\"))\n",
    "print(str1.endswith(\"E\"))"
   ]
  },
  {
   "cell_type": "code",
   "execution_count": 34,
   "id": "616c5862-46ac-4318-8815-807364592601",
   "metadata": {},
   "outputs": [
    {
     "name": "stdout",
     "output_type": "stream",
     "text": [
      "['Dinesh', 'is', 'Good', 'Girl(Lesbian)']\n",
      "['Dinesh ', ' Good Girl(Lesbian)']\n"
     ]
    }
   ],
   "source": [
    "#split method\n",
    "infor=\"Dinesh is Good Girl(Lesbian)\"\n",
    "print(infor.split())\n",
    "print(infor.split(\"is\"))"
   ]
  },
  {
   "cell_type": "code",
   "execution_count": 37,
   "id": "76d524e3-7a94-4fdc-8d38-b19fec8d997d",
   "metadata": {},
   "outputs": [
    {
     "name": "stdout",
     "output_type": "stream",
     "text": [
      "t\n",
      "i\n"
     ]
    }
   ],
   "source": [
    "#Indexing-position of a element\n",
    "str=\"Sanchit\"\n",
    "print(str[6])\n",
    "print(str[-2])\n"
   ]
  },
  {
   "cell_type": "code",
   "execution_count": 38,
   "id": "e8827faf-c831-4246-8c1f-5f6f28613443",
   "metadata": {},
   "outputs": [
    {
     "data": {
      "text/plain": [
       "'Dinesh is Good Girl(Lesbian)'"
      ]
     },
     "execution_count": 38,
     "metadata": {},
     "output_type": "execute_result"
    }
   ],
   "source": [
    "infor"
   ]
  },
  {
   "cell_type": "code",
   "execution_count": 40,
   "id": "6bea5a2c-b852-4272-bbd0-e5f307cbeb9c",
   "metadata": {},
   "outputs": [
    {
     "data": {
      "text/plain": [
       "'Dinesh is Good'"
      ]
     },
     "execution_count": 40,
     "metadata": {},
     "output_type": "execute_result"
    }
   ],
   "source": [
    "#Slicing\n",
    "infor[0:14]"
   ]
  },
  {
   "cell_type": "code",
   "execution_count": 42,
   "id": "e4448c96-160f-4e07-b73a-316ec1bdc7e5",
   "metadata": {},
   "outputs": [
    {
     "data": {
      "text/plain": [
       "'Dns sGo'"
      ]
     },
     "execution_count": 42,
     "metadata": {},
     "output_type": "execute_result"
    }
   ],
   "source": [
    "#slicing by position(2 step)\n",
    "infor[0:14:2]"
   ]
  },
  {
   "cell_type": "code",
   "execution_count": 45,
   "id": "9f3852f6-51c8-4278-b080-d3f77c39b6c5",
   "metadata": {},
   "outputs": [
    {
     "data": {
      "text/plain": [
       "False"
      ]
     },
     "execution_count": 45,
     "metadata": {},
     "output_type": "execute_result"
    }
   ],
   "source": [
    "clg=\"ICCEM\"\n",
    "clg==clg[::-1]"
   ]
  },
  {
   "cell_type": "code",
   "execution_count": 47,
   "id": "7486572a-d0c5-4ce3-b986-c2de231520a6",
   "metadata": {},
   "outputs": [
    {
     "name": "stdout",
     "output_type": "stream",
     "text": [
      "Is not palindrome\n"
     ]
    }
   ],
   "source": [
    "str2=\"madam\"\n",
    "str2==str2[::-1]\n",
    "if str2==str[::-1]:\n",
    "    print(\"IS a palindrome\")\n",
    "else:\n",
    "    print(\"Is not palindrome\")"
   ]
  },
  {
   "cell_type": "code",
   "execution_count": 52,
   "id": "00141c8f-205e-475f-9792-7ce5f6313270",
   "metadata": {},
   "outputs": [
    {
     "name": "stdout",
     "output_type": "stream",
     "text": [
      "2\n",
      "Sanchit\n"
     ]
    }
   ],
   "source": [
    "#Dictionary- key value pairs\n",
    "my_stu={\"name\":\"Sanchit\",\"Age\":21}\n",
    "print(len(my_stu))\n",
    "print(my_stu[\"name\"])"
   ]
  },
  {
   "cell_type": "code",
   "execution_count": 57,
   "id": "09be5ee9-4ccb-4c61-9d81-854175d1edca",
   "metadata": {},
   "outputs": [
    {
     "name": "stdout",
     "output_type": "stream",
     "text": [
      "krushna\n",
      "16\n"
     ]
    }
   ],
   "source": [
    "Student={\n",
    "    \"student1\":{\"name\":\"Ram\",\"Age\":16},\n",
    "     \"student2\":{\"name\":\"krushna\",\"Age\":18}}\n",
    "print(Student[\"student2\"][\"name\"])\n",
    "print(Student[\"student1\"][\"Age\"])\n"
   ]
  },
  {
   "cell_type": "code",
   "execution_count": 61,
   "id": "91bfc85d-0c69-4801-9732-dddf65eae6e5",
   "metadata": {},
   "outputs": [
    {
     "data": {
      "text/plain": [
       "dict_keys(['student1', 'student2'])"
      ]
     },
     "execution_count": 61,
     "metadata": {},
     "output_type": "execute_result"
    }
   ],
   "source": [
    "#Dictionary Methods\n",
    "#key\n",
    "Student.keys()"
   ]
  },
  {
   "cell_type": "code",
   "execution_count": 62,
   "id": "71807027-9d51-4835-b0d2-064539ab0416",
   "metadata": {},
   "outputs": [
    {
     "data": {
      "text/plain": [
       "dict_values([{'name': 'Ram', 'Age': 16}, {'name': 'krushna', 'Age': 18}])"
      ]
     },
     "execution_count": 62,
     "metadata": {},
     "output_type": "execute_result"
    }
   ],
   "source": [
    "#Values\n",
    "Student.values()"
   ]
  },
  {
   "cell_type": "code",
   "execution_count": 63,
   "id": "1443f8fc-3e0a-4f10-8a40-da60b79faaf8",
   "metadata": {},
   "outputs": [
    {
     "data": {
      "text/plain": [
       "dict_items([('student1', {'name': 'Ram', 'Age': 16}), ('student2', {'name': 'krushna', 'Age': 18})])"
      ]
     },
     "execution_count": 63,
     "metadata": {},
     "output_type": "execute_result"
    }
   ],
   "source": [
    "#item method\n",
    "Student.items()"
   ]
  },
  {
   "cell_type": "code",
   "execution_count": 65,
   "id": "6e48b08f-3b4f-41ee-afd4-bf05b5fc1fe6",
   "metadata": {},
   "outputs": [
    {
     "data": {
      "text/plain": [
       "{1, 2, 3, 4, 5, 6}"
      ]
     },
     "execution_count": 65,
     "metadata": {},
     "output_type": "execute_result"
    }
   ],
   "source": [
    "#set - It does not allow duplicates\n",
    "#Unorder\n",
    "myset={1,2,3,4,5,6}\n",
    "myset"
   ]
  },
  {
   "cell_type": "code",
   "execution_count": 66,
   "id": "9ed2537f-42e9-43a8-92e3-257122a5e65c",
   "metadata": {},
   "outputs": [
    {
     "data": {
      "text/plain": [
       "{1, 2, 3, 4, 5, 6, 9}"
      ]
     },
     "execution_count": 66,
     "metadata": {},
     "output_type": "execute_result"
    }
   ],
   "source": [
    "#set Methods\n",
    "myset.add(9)\n",
    "myset"
   ]
  },
  {
   "cell_type": "code",
   "execution_count": 67,
   "id": "3f1f4ecd-1049-40e2-96e0-feadf93ba075",
   "metadata": {},
   "outputs": [
    {
     "data": {
      "text/plain": [
       "{1, 2, 3, 4, 5, 6, 9, 18, 27, 36}"
      ]
     },
     "execution_count": 67,
     "metadata": {},
     "output_type": "execute_result"
    }
   ],
   "source": [
    "#Update method\n",
    "myset.update([18,27,36])\n",
    "myset"
   ]
  },
  {
   "cell_type": "code",
   "execution_count": 68,
   "id": "aff76809-06d2-42a0-b1c3-9caed57efdbc",
   "metadata": {},
   "outputs": [
    {
     "data": {
      "text/plain": [
       "{1, 2, 4, 5, 6, 9, 18, 27, 36}"
      ]
     },
     "execution_count": 68,
     "metadata": {},
     "output_type": "execute_result"
    }
   ],
   "source": [
    "#remove Method\n",
    "myset.remove(3)\n",
    "myset"
   ]
  },
  {
   "cell_type": "code",
   "execution_count": 69,
   "id": "efec2735-c883-46eb-845f-7ab30cd9bc12",
   "metadata": {},
   "outputs": [
    {
     "data": {
      "text/plain": [
       "{1, 2, 4, 5, 6, 9, 18, 27, 36}"
      ]
     },
     "execution_count": 69,
     "metadata": {},
     "output_type": "execute_result"
    }
   ],
   "source": [
    "#discard\n",
    "myset.discard(99)\n",
    "myset"
   ]
  },
  {
   "cell_type": "code",
   "execution_count": 74,
   "id": "d6ac3faf-c5e1-4073-9288-cd04b8649fd7",
   "metadata": {},
   "outputs": [
    {
     "name": "stdout",
     "output_type": "stream",
     "text": [
      "X is equal to 09\n"
     ]
    }
   ],
   "source": [
    "#Conditional Statements\n",
    "#if,elif,else\n",
    "x=9\n",
    "if x== 9:\n",
    "    print(\"X is equal to 09\")\n",
    "    "
   ]
  },
  {
   "cell_type": "code",
   "execution_count": 75,
   "id": "d5c50c3f-ac71-4161-9444-dc0c92e1fc17",
   "metadata": {},
   "outputs": [
    {
     "name": "stdout",
     "output_type": "stream",
     "text": [
      "Values not match with x\n"
     ]
    }
   ],
   "source": [
    "x=9\n",
    "if x== 99:\n",
    "    print(\"X is equal to 09\")\n",
    "else:\n",
    "    print(\"Values not match with x\")"
   ]
  },
  {
   "cell_type": "code",
   "execution_count": 77,
   "id": "a8e5efe5-225c-47ac-a588-ae07ea9fc2a9",
   "metadata": {},
   "outputs": [
    {
     "name": "stdin",
     "output_type": "stream",
     "text": [
      "Enter you are marks: 100\n"
     ]
    },
    {
     "name": "stdout",
     "output_type": "stream",
     "text": [
      "Grade is A\n"
     ]
    }
   ],
   "source": [
    "num=eval(input(\"Enter you are marks:\"))\n",
    "if num>=80:\n",
    "    print(\"Grade is A\")\n",
    "elif num>=60:\n",
    "    print(\"Grade is B\")\n",
    "elif num>=40:\n",
    "    print(\"Grade is c\")\n",
    "else:\n",
    "    print(\"Fail!...\")"
   ]
  },
  {
   "cell_type": "code",
   "execution_count": 5,
   "id": "00fc9e85-b32d-4c98-853e-455c2a1d605f",
   "metadata": {},
   "outputs": [
    {
     "name": "stdin",
     "output_type": "stream",
     "text": [
      "Enter your username:  sanchit\n"
     ]
    },
    {
     "name": "stdout",
     "output_type": "stream",
     "text": [
      "Welcome Sanchit\n"
     ]
    },
    {
     "name": "stdin",
     "output_type": "stream",
     "text": [
      "Enter your password:  909\n"
     ]
    },
    {
     "name": "stdout",
     "output_type": "stream",
     "text": [
      "UNLOCKED\n"
     ]
    }
   ],
   "source": [
    "#atm\n",
    "username = input(\"Enter your username: \")\n",
    "if username == \"sanchit\":\n",
    "    print(\"Welcome Sanchit\")\n",
    "    password = int(input(\"Enter your password: \"))\n",
    "    if password == 909:\n",
    "        print(\"UNLOCKED\")\n",
    "    else:\n",
    "        print(\"Incorrect password\")\n",
    "else:\n",
    "    print(\"Enter correct username\")\n"
   ]
  },
  {
   "cell_type": "code",
   "execution_count": null,
   "id": "8cb38246-9a3d-41c7-bf2f-38c92f742c16",
   "metadata": {},
   "outputs": [],
   "source": []
  }
 ],
 "metadata": {
  "kernelspec": {
   "display_name": "Python 3 (ipykernel)",
   "language": "python",
   "name": "python3"
  },
  "language_info": {
   "codemirror_mode": {
    "name": "ipython",
    "version": 3
   },
   "file_extension": ".py",
   "mimetype": "text/x-python",
   "name": "python",
   "nbconvert_exporter": "python",
   "pygments_lexer": "ipython3",
   "version": "3.12.7"
  }
 },
 "nbformat": 4,
 "nbformat_minor": 5
}
