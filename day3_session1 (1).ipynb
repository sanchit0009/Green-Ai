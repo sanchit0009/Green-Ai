{
 "cells": [
  {
   "cell_type": "code",
   "execution_count": 2,
   "id": "bc50d09b-e64c-41b0-a89b-305b4518f832",
   "metadata": {},
   "outputs": [
    {
     "name": "stdout",
     "output_type": "stream",
     "text": [
      "<__main__.CS object at 0x000001B40E653D40>\n"
     ]
    }
   ],
   "source": [
    "#OOPS\n",
    "#It is a method of programming which consider object as Real world Entity\n",
    "#Class:Blueprint of program\n",
    "#Object-Instance of the class\n",
    "#Methods-What my object can do?\n",
    "#Attributes-Arguments of objects\n",
    "class CS:\n",
    "    pass\n",
    "student=CS()\n",
    "print(student)\n"
   ]
  },
  {
   "cell_type": "code",
   "execution_count": 9,
   "id": "7f9f1a80-5eee-416b-96a9-ccce563cae2b",
   "metadata": {},
   "outputs": [
    {
     "name": "stdout",
     "output_type": "stream",
     "text": [
      "My name is Sanchit and i am doing coding\n",
      "My name is Dinesh and i am doing coding\n"
     ]
    }
   ],
   "source": [
    "class CS:\n",
    "    def __init__(self,name,age):\n",
    "        self.name=name;\n",
    "        self.age=age;\n",
    "    def coding(self):\n",
    "        print(f\"My name is {self.name} and i am doing coding\")\n",
    "\n",
    "student=CS(\"Sanchit\",21)\n",
    "Student2=CS(\"Dinesh\",22)\n",
    "student.coding()\n",
    "Student2.coding()\n",
    "\n"
   ]
  },
  {
   "cell_type": "code",
   "execution_count": 19,
   "id": "9536ef11-d034-4535-8edd-cab62219e626",
   "metadata": {},
   "outputs": [],
   "source": [
    "#Main pillars of OOps\n",
    "#Inheritance\n",
    "#POlymorphism\n",
    "#Encapsulation\n",
    "#Abstraction\n",
    "class parent1:\n",
    "    def __init__(self,name,surname):\n",
    "        self.name=name\n",
    "        self.surname=surname\n",
    "    def show(self):\n",
    "        print(f\"MY name is {self.name} {self.surname}\")\n",
    "\n",
    "class child1(parent1):\n",
    "    def __init__(self,name,surname):\n",
    "        super().__init__(name,surname)\n",
    "       # self.age=age;\n",
    "    def intro(self):\n",
    "        super().show()\n",
    "        "
   ]
  },
  {
   "cell_type": "code",
   "execution_count": 20,
   "id": "90925b2e-62d2-42e0-9bb2-ccb66440cd55",
   "metadata": {},
   "outputs": [
    {
     "name": "stdout",
     "output_type": "stream",
     "text": [
      "MY name is Sanchit Umbarkar\n"
     ]
    }
   ],
   "source": [
    "child1=child1(\"Sanchit\",\"Umbarkar\")\n",
    "child1.intro()"
   ]
  },
  {
   "cell_type": "code",
   "execution_count": 25,
   "id": "08fc05ef-0aea-41ff-9501-01069de74c0d",
   "metadata": {},
   "outputs": [],
   "source": [
    "#Encapsulation-hiding data and methods from indirect access\n",
    "class ATM:\n",
    "    def __init__(self,name,card_no,pin):\n",
    "        self.name=name;\n",
    "        self._card_no=card_no;#protected\n",
    "        self.__pin=pin;#private\n",
    "    def get_pin(self):\n",
    "        return self.__pin\n",
    "Machine=ATM(\"Sanchit\",87778777,445445454)\n",
    "  \n",
    "    \n",
    "        "
   ]
  },
  {
   "cell_type": "code",
   "execution_count": 26,
   "id": "ab691a41-67ea-4758-891b-9b44aa1719f6",
   "metadata": {},
   "outputs": [
    {
     "data": {
      "text/plain": [
       "445445454"
      ]
     },
     "execution_count": 26,
     "metadata": {},
     "output_type": "execute_result"
    }
   ],
   "source": [
    "Machine.get_pin()"
   ]
  },
  {
   "cell_type": "code",
   "execution_count": 33,
   "id": "6d12b69c-7c84-4d62-8ff5-1178ac3cfca1",
   "metadata": {},
   "outputs": [
    {
     "name": "stdout",
     "output_type": "stream",
     "text": [
      "MY name is sanchit umbarkar\n",
      "MY name is Dinesh kawade 10\n",
      "MY name is Naru Adudhe 30\n"
     ]
    }
   ],
   "source": [
    "#Polymorphism Many forms but one object\n",
    "class parent:\n",
    "    def __init__(self,name,surname):\n",
    "        self.name=name\n",
    "        self.surname=surname\n",
    "    def show(self):\n",
    "        print(f\"MY name is {self.name} {self.surname}\")\n",
    "\n",
    "class child1(parent):\n",
    "    def __init__(self,name,surname,age):\n",
    "        super().__init__(name,surname)\n",
    "        self.age=age;\n",
    "    def show(self):\n",
    "         print(f\"MY name is {self.name} {self.surname} {self.age}\")\n",
    "\n",
    "\n",
    "\n",
    "parent = parent(\"sanchit\", \"umbarkar\")\n",
    "child1_obj = child1(\"Dinesh\", \"kawade\", 10)\n",
    "child2_obj = child1(\"Naru\", \"Adudhe\", 30)\n",
    "\n",
    "\n",
    "parent.show()\n",
    "child1_obj.show()\n",
    "child2_obj.show()\n",
    "\n",
    "\n",
    "        \n",
    "        \n",
    "\n"
   ]
  },
  {
   "cell_type": "code",
   "execution_count": 43,
   "id": "81590f71-500a-4abf-9c4d-ba83de742361",
   "metadata": {},
   "outputs": [
    {
     "name": "stdout",
     "output_type": "stream",
     "text": [
      "oneplus is calling\n",
      "oneplus is messaging\n"
     ]
    }
   ],
   "source": [
    "#Abstraction\n",
    "from abc import ABC,abstractmethod\n",
    "class Mobile(ABC):\n",
    "    def __init__(self,name,price):\n",
    "        self.name=name;\n",
    "        self.price=price;\n",
    "\n",
    "    @abstractmethod\n",
    "    def calling(self):\n",
    "        pass\n",
    "\n",
    "    @abstractmethod\n",
    "    def message(self):\n",
    "        pass\n",
    "\n",
    "class oneplus(Mobile):\n",
    "    def __init__(self,name,price,camera):\n",
    "        super().__init__(name,price)\n",
    "        self.camera=camera\n",
    "\n",
    "    def calling(self):\n",
    "        print(f\"{self.name} is calling\")\n",
    "    def message(self):\n",
    "        print(f\"{self.name} is messaging\")\n",
    "\n",
    "obj=oneplus(\"oneplus\",40000,\"50mp\")\n",
    "obj.calling()\n",
    "obj.message()\n",
    "\n",
    "\n",
    "\n",
    "    \n",
    "        \n",
    "    \n",
    "    "
   ]
  },
  {
   "cell_type": "code",
   "execution_count": 1,
   "id": "e417d1f0-65a0-4f64-a85e-470858f95f55",
   "metadata": {},
   "outputs": [
    {
     "name": "stdout",
     "output_type": "stream",
     "text": [
      "Could not fetch URL https://pypi.org/simple/tensorflow/: There was a problem confirming the ssl certificate: HTTPSConnectionPool(host='pypi.org', port=443): Max retries exceeded with url: /simple/tensorflow/ (Caused by SSLError(SSLCertVerificationError('A certificate chain processed, but terminated in a root certificate which is not trusted by the trust provider.'))) - skipping\n",
      "Could not fetch URL https://pypi.org/simple/pip/: There was a problem confirming the ssl certificate: HTTPSConnectionPool(host='pypi.org', port=443): Max retries exceeded with url: /simple/pip/ (Caused by SSLError(SSLCertVerificationError('A certificate chain processed, but terminated in a root certificate which is not trusted by the trust provider.'))) - skipping\n",
      "Note: you may need to restart the kernel to use updated packages.\n"
     ]
    },
    {
     "name": "stderr",
     "output_type": "stream",
     "text": [
      "WARNING: Retrying (Retry(total=4, connect=None, read=None, redirect=None, status=None)) after connection broken by 'SSLError(SSLCertVerificationError('A certificate chain processed, but terminated in a root certificate which is not trusted by the trust provider.'))': /simple/tensorflow/\n",
      "WARNING: Retrying (Retry(total=3, connect=None, read=None, redirect=None, status=None)) after connection broken by 'SSLError(SSLCertVerificationError('A certificate chain processed, but terminated in a root certificate which is not trusted by the trust provider.'))': /simple/tensorflow/\n",
      "WARNING: Retrying (Retry(total=2, connect=None, read=None, redirect=None, status=None)) after connection broken by 'SSLError(SSLCertVerificationError('A certificate chain processed, but terminated in a root certificate which is not trusted by the trust provider.'))': /simple/tensorflow/\n",
      "WARNING: Retrying (Retry(total=1, connect=None, read=None, redirect=None, status=None)) after connection broken by 'SSLError(SSLCertVerificationError('A certificate chain processed, but terminated in a root certificate which is not trusted by the trust provider.'))': /simple/tensorflow/\n",
      "WARNING: Retrying (Retry(total=0, connect=None, read=None, redirect=None, status=None)) after connection broken by 'SSLError(SSLCertVerificationError('A certificate chain processed, but terminated in a root certificate which is not trusted by the trust provider.'))': /simple/tensorflow/\n",
      "ERROR: Could not find a version that satisfies the requirement tensorflow (from versions: none)\n",
      "ERROR: No matching distribution found for tensorflow\n"
     ]
    }
   ],
   "source": [
    "pip install tensorflow"
   ]
  },
  {
   "cell_type": "code",
   "execution_count": null,
   "id": "138faabd-885c-4c42-b49b-667ee575c567",
   "metadata": {},
   "outputs": [],
   "source": []
  }
 ],
 "metadata": {
  "kernelspec": {
   "display_name": "Python 3 (ipykernel)",
   "language": "python",
   "name": "python3"
  },
  "language_info": {
   "codemirror_mode": {
    "name": "ipython",
    "version": 3
   },
   "file_extension": ".py",
   "mimetype": "text/x-python",
   "name": "python",
   "nbconvert_exporter": "python",
   "pygments_lexer": "ipython3",
   "version": "3.12.7"
  }
 },
 "nbformat": 4,
 "nbformat_minor": 5
}
