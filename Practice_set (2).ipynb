{
 "cells": [
  {
   "cell_type": "code",
   "execution_count": 1,
   "id": "a4583980-2ec9-4840-8f6e-386aba8defaf",
   "metadata": {},
   "outputs": [
    {
     "name": "stdin",
     "output_type": "stream",
     "text": [
      "Enter first number 30\n",
      "Enter Second number 40\n"
     ]
    },
    {
     "name": "stdout",
     "output_type": "stream",
     "text": [
      "Addition 70\n",
      "Substraction -10\n",
      "Multiplication 1200\n",
      "Modulas 30\n"
     ]
    }
   ],
   "source": [
    "#operations\n",
    "num1=eval(input(\"Enter first number\"))\n",
    "num2=eval(input(\"Enter Second number\"))\n",
    "print(\"Addition\",num1+num2)\n",
    "print(\"Substraction\",num1-num2)\n",
    "print(\"Multiplication\",num1*num2)\n",
    "print(\"Modulas\",num1%num2)\n",
    "\n",
    "\n",
    "\n"
   ]
  },
  {
   "cell_type": "code",
   "execution_count": 3,
   "id": "5a5112af-dd56-4e67-97f9-48d16076ad94",
   "metadata": {},
   "outputs": [
    {
     "name": "stdin",
     "output_type": "stream",
     "text": [
      "Enter the Number 8\n"
     ]
    },
    {
     "name": "stdout",
     "output_type": "stream",
     "text": [
      "Given number is even 8\n"
     ]
    }
   ],
   "source": [
    "#odd even\n",
    "number=eval(input(\"Enter the Number\"))\n",
    "if number%2==0:\n",
    "    print(\"Given number is even\",number)\n",
    "else:\n",
    "    print(\"Given number is odd\",number)"
   ]
  },
  {
   "cell_type": "code",
   "execution_count": 4,
   "id": "7e174400-2cce-4744-998d-a613864468ee",
   "metadata": {},
   "outputs": [
    {
     "name": "stdout",
     "output_type": "stream",
     "text": [
      "value of a 20\n",
      "value of b 10\n"
     ]
    }
   ],
   "source": [
    "#Swap variable without using third variable\n",
    "a=10\n",
    "b=20\n",
    "a,b=b,a\n",
    "print(\"value of a\",a)\n",
    "print(\"value of b\",b)"
   ]
  },
  {
   "cell_type": "code",
   "execution_count": 7,
   "id": "ee5f6b27-e213-48cc-aeac-32d020423cbc",
   "metadata": {},
   "outputs": [
    {
     "name": "stdin",
     "output_type": "stream",
     "text": [
      "Enter first number 10\n",
      "Enter Second number 20\n",
      "Enter Third number 30\n"
     ]
    },
    {
     "name": "stdout",
     "output_type": "stream",
     "text": [
      "Value of num1 10 num2 20 num3 30\n",
      "num3 is Largest number among 3 30\n"
     ]
    }
   ],
   "source": [
    "#Largest number among 3 numbers\n",
    "num1=eval(input(\"Enter first number\"))\n",
    "num2=eval(input(\"Enter Second number\"))\n",
    "num3=eval(input(\"Enter Third number\"))\n",
    "print(\"Value of num1\",num1,\"num2\",num2,\"num3\",num3);\n",
    "if num1>num2 and num1>num3:\n",
    "    print(\"num1 value is largest among 3\",num1)\n",
    "elif num2>num1 and num2>num3:\n",
    "    print(\"num2 value is largest among 3\",num2)\n",
    "else:\n",
    "    print(\"num3 is Largest number among 3\",num3)"
   ]
  },
  {
   "cell_type": "code",
   "execution_count": 1,
   "id": "966863d8-c522-47b2-acc5-397f1f588fe9",
   "metadata": {},
   "outputs": [
    {
     "name": "stdout",
     "output_type": "stream",
     "text": [
      "The factorial of 9 is 362880\n"
     ]
    }
   ],
   "source": [
    "#factorial using loop\n",
    "def factorial(n):\n",
    "    result = 1\n",
    "    for i in range(1, n + 1):\n",
    "        result *= i\n",
    "    return result\n",
    "\n",
    "number = 9\n",
    "print(f\"The factorial of {number} is {factorial(number)}\")\n"
   ]
  },
  {
   "cell_type": "code",
   "execution_count": 2,
   "id": "484d3b33-fdcc-4e94-9d33-ba9a7be4bcc7",
   "metadata": {},
   "outputs": [
    {
     "name": "stdout",
     "output_type": "stream",
     "text": [
      "150\n"
     ]
    }
   ],
   "source": [
    "# list of number and its sum\n",
    "nums = [10, 20, 30, 40, 50]\n",
    "print(sum(nums))\n"
   ]
  },
  {
   "cell_type": "code",
   "execution_count": 3,
   "id": "a81ac7b4-6e37-4f97-8e0c-4e5f715009ad",
   "metadata": {},
   "outputs": [
    {
     "name": "stdout",
     "output_type": "stream",
     "text": [
      "[1, 2, 3, 4]\n"
     ]
    }
   ],
   "source": [
    "#remove duplicate from list using set\n",
    "lst = [1, 2, 2, 3, 4, 4]\n",
    "s = set(lst)\n",
    "print(list(s))"
   ]
  },
  {
   "cell_type": "code",
   "execution_count": 4,
   "id": "ffe57045-1144-4846-9bc2-427b579f0a36",
   "metadata": {},
   "outputs": [
    {
     "name": "stdout",
     "output_type": "stream",
     "text": [
      "Amit\n",
      "Ravi\n"
     ]
    }
   ],
   "source": [
    "#Dictionary with marks,name and print above 75 marks student name\n",
    "students = {'Amit': 80, 'Neha': 70, 'Ravi': 90, 'Priya': 60}\n",
    "for name in students:\n",
    "    if students[name] > 75:\n",
    "        print(name)"
   ]
  },
  {
   "cell_type": "code",
   "execution_count": 5,
   "id": "5f58f6e6-b757-438e-82e4-2e68727b952c",
   "metadata": {},
   "outputs": [
    {
     "name": "stdout",
     "output_type": "stream",
     "text": [
      "(5, 4, 3, 2, 1)\n"
     ]
    }
   ],
   "source": [
    "#Tuple 5 elements and print reverse\n",
    "t = (1, 2, 3, 4, 5)\n",
    "print(t[::-1])"
   ]
  },
  {
   "cell_type": "code",
   "execution_count": 6,
   "id": "c35ccf7f-b83d-4373-9f91-664f425397c3",
   "metadata": {},
   "outputs": [
    {
     "name": "stdout",
     "output_type": "stream",
     "text": [
      "3\n"
     ]
    }
   ],
   "source": [
    "#Count the Vowels in String\n",
    "s = \"hello world\"\n",
    "vowels = ['a','e','i','o','u']\n",
    "count = 0\n",
    "for ch in s:\n",
    "    if ch in vowels:\n",
    "        count += 1\n",
    "print(count)"
   ]
  },
  {
   "cell_type": "code",
   "execution_count": 9,
   "id": "75a2320b-8522-47ad-81e5-7ba9fe241399",
   "metadata": {},
   "outputs": [
    {
     "name": "stdout",
     "output_type": "stream",
     "text": [
      "False\n"
     ]
    }
   ],
   "source": [
    "#Section 3 Loops and Function\n",
    "# Check if number is prime using function\n",
    "def is_prime(n):\n",
    "    if n < 2:\n",
    "        return False\n",
    "    for i in range(2,n):\n",
    "        if n % i == 0:\n",
    "            return False\n",
    "    return True\n",
    "\n",
    "print(is_prime(9))"
   ]
  },
  {
   "cell_type": "code",
   "execution_count": 10,
   "id": "d6bdfca6-309a-4824-b6ab-bc6c7d13246e",
   "metadata": {},
   "outputs": [
    {
     "name": "stdout",
     "output_type": "stream",
     "text": [
      "0 1 1 2 3 "
     ]
    }
   ],
   "source": [
    "#fibonnaci Series upto n term\n",
    "def fib(n):\n",
    "    a, b = 0, 1\n",
    "    for _ in range(n):\n",
    "        print(a, end=' ')\n",
    "        a, b = b, a + b\n",
    "\n",
    "fib(5)"
   ]
  },
  {
   "cell_type": "code",
   "execution_count": 12,
   "id": "e8e82bf5-bf8e-4d73-b022-f518d152c74c",
   "metadata": {},
   "outputs": [
    {
     "name": "stdout",
     "output_type": "stream",
     "text": [
      "9 x 1 = 9\n",
      "9 x 2 = 18\n",
      "9 x 3 = 27\n",
      "9 x 4 = 36\n",
      "9 x 5 = 45\n",
      "9 x 6 = 54\n",
      "9 x 7 = 63\n",
      "9 x 8 = 72\n",
      "9 x 9 = 81\n",
      "9 x 10 = 90\n"
     ]
    }
   ],
   "source": [
    "#While loop for multiplication table\n",
    "n = 9\n",
    "i = 1\n",
    "while i <= 10:\n",
    "    print(n, 'x', i, '=', n*i)\n",
    "    i += 1"
   ]
  },
  {
   "cell_type": "code",
   "execution_count": 14,
   "id": "6683ca12-56cc-4095-a513-9f1864fbf528",
   "metadata": {},
   "outputs": [
    {
     "name": "stdout",
     "output_type": "stream",
     "text": [
      "27\n"
     ]
    }
   ],
   "source": [
    "#Find the sum of digit using loop\n",
    "n = 91827\n",
    "sum = 0\n",
    "while n > 0:\n",
    "    sum += n % 10\n",
    "    n = n // 10\n",
    "print(sum)"
   ]
  },
  {
   "cell_type": "code",
   "execution_count": 15,
   "id": "763ebf99-4051-401d-a506-bf7019f53e8b",
   "metadata": {},
   "outputs": [
    {
     "name": "stdout",
     "output_type": "stream",
     "text": [
      "78.5\n"
     ]
    }
   ],
   "source": [
    "#calculate the Radius of circle\n",
    "def area(r):\n",
    "    return 3.14 * r * r\n",
    "\n",
    "print(area(5))"
   ]
  },
  {
   "cell_type": "code",
   "execution_count": null,
   "id": "581a3897-e8ce-4ef7-93f7-2e9c45bc8b56",
   "metadata": {},
   "outputs": [],
   "source": []
  }
 ],
 "metadata": {
  "kernelspec": {
   "display_name": "Python 3 (ipykernel)",
   "language": "python",
   "name": "python3"
  },
  "language_info": {
   "codemirror_mode": {
    "name": "ipython",
    "version": 3
   },
   "file_extension": ".py",
   "mimetype": "text/x-python",
   "name": "python",
   "nbconvert_exporter": "python",
   "pygments_lexer": "ipython3",
   "version": "3.12.7"
  }
 },
 "nbformat": 4,
 "nbformat_minor": 5
}
