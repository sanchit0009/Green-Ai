{
 "cells": [
  {
   "cell_type": "code",
   "execution_count": 1,
   "id": "9dca4463-864c-480a-bfeb-003839070975",
   "metadata": {},
   "outputs": [
    {
     "name": "stdout",
     "output_type": "stream",
     "text": [
      "Thank you\n",
      "Thank you\n",
      "Thank you\n"
     ]
    }
   ],
   "source": [
    "#loops\n",
    "#for loop\n",
    "for i in range(3):\n",
    "    print(\"Thank you\")"
   ]
  },
  {
   "cell_type": "code",
   "execution_count": 2,
   "id": "a815ee7d-1295-46bb-ab46-da0bc70ccafc",
   "metadata": {},
   "outputs": [
    {
     "name": "stdout",
     "output_type": "stream",
     "text": [
      "1\n",
      "2\n",
      "3\n",
      "4\n",
      "5\n",
      "6\n",
      "7\n",
      "8\n",
      "9\n",
      "10\n",
      "11\n",
      "12\n",
      "13\n",
      "14\n",
      "15\n",
      "16\n",
      "17\n",
      "18\n",
      "19\n",
      "20\n"
     ]
    }
   ],
   "source": [
    "#number from 1 to 20\n",
    "for i in range(1,21):\n",
    "    print(i)"
   ]
  },
  {
   "cell_type": "code",
   "execution_count": 4,
   "id": "6ee9ccaa-4c00-41ea-8a3f-c43745409438",
   "metadata": {},
   "outputs": [
    {
     "name": "stdout",
     "output_type": "stream",
     "text": [
      "2\n",
      "4\n",
      "6\n",
      "8\n",
      "10\n",
      "12\n",
      "14\n",
      "16\n",
      "18\n",
      "20\n"
     ]
    }
   ],
   "source": [
    "#table of 2\n",
    "for i in range(2,21,2):\n",
    "    print(i)"
   ]
  },
  {
   "cell_type": "code",
   "execution_count": 5,
   "id": "24cc4184-36a9-4daf-88e8-047ad4b89c86",
   "metadata": {},
   "outputs": [
    {
     "name": "stdout",
     "output_type": "stream",
     "text": [
      "5\n",
      "10\n",
      "15\n",
      "20\n",
      "25\n",
      "30\n",
      "35\n",
      "40\n",
      "45\n",
      "50\n"
     ]
    }
   ],
   "source": [
    "#table of 5\n",
    "for i in range(5,51,5):\n",
    "    print(i)"
   ]
  },
  {
   "cell_type": "code",
   "execution_count": 8,
   "id": "427915cc-c410-4b02-854a-d0fbe1405495",
   "metadata": {},
   "outputs": [
    {
     "name": "stdout",
     "output_type": "stream",
     "text": [
      "1\n",
      "4\n",
      "9\n",
      "16\n",
      "25\n"
     ]
    }
   ],
   "source": [
    "mylist=[1,2,3,4,5]\n",
    "for i in mylist:\n",
    "    #square\n",
    "    print(i*i)"
   ]
  },
  {
   "cell_type": "code",
   "execution_count": 12,
   "id": "93bc60f1-334d-4e00-9145-9b290376d623",
   "metadata": {},
   "outputs": [
    {
     "name": "stdout",
     "output_type": "stream",
     "text": [
      "[2, 4, 6, 8, 10, 12, 14, 16, 18, 20, 22, 24, 26, 28, 30, 32, 34, 36, 38, 40, 42, 44, 46, 48, 50, 52, 54, 56, 58, 60, 62, 64, 66, 68, 70, 72, 74, 76, 78, 80, 82, 84, 86, 88, 90, 92, 94, 96, 98, 100]\n",
      "[1, 3, 5, 7, 9, 11, 13, 15, 17, 19, 21, 23, 25, 27, 29, 31, 33, 35, 37, 39, 41, 43, 45, 47, 49, 51, 53, 55, 57, 59, 61, 63, 65, 67, 69, 71, 73, 75, 77, 79, 81, 83, 85, 87, 89, 91, 93, 95, 97, 99]\n"
     ]
    }
   ],
   "source": [
    "even=[]\n",
    "odd=[]\n",
    "for i in range(1,101,1):\n",
    "    if i%2==0:\n",
    "        even.append(i)\n",
    "    else:\n",
    "        odd.append(i)\n",
    "print(even)\n",
    "print(odd)\n",
    "\n",
    "    "
   ]
  },
  {
   "cell_type": "code",
   "execution_count": 10,
   "id": "de538465-d2ed-446c-8889-74e4535500d4",
   "metadata": {},
   "outputs": [
    {
     "name": "stdout",
     "output_type": "stream",
     "text": [
      "Even numbers: [2, 4, 6, 8, 10, 12, 14, 16, 18, 20, 22, 24, 26, 28, 30, 32, 34, 36, 38, 40, 42, 44, 46, 48, 50, 52, 54, 56, 58, 60, 62, 64, 66, 68, 70, 72, 74, 76, 78, 80, 82, 84, 86, 88, 90, 92, 94, 96, 98, 100]\n",
      "Odd numbers: [1, 3, 5, 7, 9, 11, 13, 15, 17, 19, 21, 23, 25, 27, 29, 31, 33, 35, 37, 39, 41, 43, 45, 47, 49, 51, 53, 55, 57, 59, 61, 63, 65, 67, 69, 71, 73, 75, 77, 79, 81, 83, 85, 87, 89, 91, 93, 95, 97, 99]\n"
     ]
    }
   ],
   "source": [
    "even = []\n",
    "odd = []\n",
    "\n",
    "for i in range(1, 101):\n",
    "    if i % 2 == 0:\n",
    "        even.append(i)\n",
    "    else:\n",
    "        odd.append(i)\n",
    "\n",
    "print(\"Even numbers:\", even)\n",
    "print(\"Odd numbers:\", odd)"
   ]
  },
  {
   "cell_type": "code",
   "execution_count": 18,
   "id": "e88e162c-2068-42df-88ec-51537ab2ee81",
   "metadata": {},
   "outputs": [
    {
     "name": "stdout",
     "output_type": "stream",
     "text": [
      "2* 1 = 2\n",
      "3* 1 = 3\n",
      "4* 1 = 4\n",
      "5* 1 = 5\n",
      "6* 1 = 6\n",
      "7* 1 = 7\n",
      "8* 1 = 8\n",
      "9* 1 = 9\n",
      "2* 2 = 4\n",
      "3* 2 = 6\n",
      "4* 2 = 8\n",
      "5* 2 = 10\n",
      "6* 2 = 12\n",
      "7* 2 = 14\n",
      "8* 2 = 16\n",
      "9* 2 = 18\n",
      "2* 3 = 6\n",
      "3* 3 = 9\n",
      "4* 3 = 12\n",
      "5* 3 = 15\n",
      "6* 3 = 18\n",
      "7* 3 = 21\n",
      "8* 3 = 24\n",
      "9* 3 = 27\n",
      "2* 4 = 8\n",
      "3* 4 = 12\n",
      "4* 4 = 16\n",
      "5* 4 = 20\n",
      "6* 4 = 24\n",
      "7* 4 = 28\n",
      "8* 4 = 32\n",
      "9* 4 = 36\n",
      "2* 5 = 10\n",
      "3* 5 = 15\n",
      "4* 5 = 20\n",
      "5* 5 = 25\n",
      "6* 5 = 30\n",
      "7* 5 = 35\n",
      "8* 5 = 40\n",
      "9* 5 = 45\n",
      "2* 6 = 12\n",
      "3* 6 = 18\n",
      "4* 6 = 24\n",
      "5* 6 = 30\n",
      "6* 6 = 36\n",
      "7* 6 = 42\n",
      "8* 6 = 48\n",
      "9* 6 = 54\n",
      "2* 7 = 14\n",
      "3* 7 = 21\n",
      "4* 7 = 28\n",
      "5* 7 = 35\n",
      "6* 7 = 42\n",
      "7* 7 = 49\n",
      "8* 7 = 56\n",
      "9* 7 = 63\n",
      "2* 8 = 16\n",
      "3* 8 = 24\n",
      "4* 8 = 32\n",
      "5* 8 = 40\n",
      "6* 8 = 48\n",
      "7* 8 = 56\n",
      "8* 8 = 64\n",
      "9* 8 = 72\n",
      "2* 9 = 18\n",
      "3* 9 = 27\n",
      "4* 9 = 36\n",
      "5* 9 = 45\n",
      "6* 9 = 54\n",
      "7* 9 = 63\n",
      "8* 9 = 72\n",
      "9* 9 = 81\n",
      "2* 10 = 20\n",
      "3* 10 = 30\n",
      "4* 10 = 40\n",
      "5* 10 = 50\n",
      "6* 10 = 60\n",
      "7* 10 = 70\n",
      "8* 10 = 80\n",
      "9* 10 = 90\n"
     ]
    }
   ],
   "source": [
    "#Tables\n",
    "#for i in range():\n",
    "for i in range(1,11):\n",
    "    print(\"2*\",i,\"=\",2*i)\n",
    "    print(\"3*\",i,\"=\",3*i)\n",
    "    print(\"4*\",i,\"=\",4*i)\n",
    "    print(\"5*\",i,\"=\",5*i)\n",
    "    print(\"6*\",i,\"=\",6*i)\n",
    "    print(\"7*\",i,\"=\",7*i)\n",
    "    print(\"8*\",i,\"=\",8*i)\n",
    "    print(\"9*\",i,\"=\",9*i)\n"
   ]
  },
  {
   "cell_type": "code",
   "execution_count": 22,
   "id": "4b78f9ba-350b-498e-b552-76c695f40c44",
   "metadata": {},
   "outputs": [
    {
     "name": "stdout",
     "output_type": "stream",
     "text": [
      "1 * 1 = 1\t2 * 1 = 2\t3 * 1 = 3\t4 * 1 = 4\t5 * 1 = 5\t6 * 1 = 6\t7 * 1 = 7\t8 * 1 = 8\t9 * 1 = 9\t\n",
      "1 * 2 = 2\t2 * 2 = 4\t3 * 2 = 6\t4 * 2 = 8\t5 * 2 = 10\t6 * 2 = 12\t7 * 2 = 14\t8 * 2 = 16\t9 * 2 = 18\t\n",
      "1 * 3 = 3\t2 * 3 = 6\t3 * 3 = 9\t4 * 3 = 12\t5 * 3 = 15\t6 * 3 = 18\t7 * 3 = 21\t8 * 3 = 24\t9 * 3 = 27\t\n",
      "1 * 4 = 4\t2 * 4 = 8\t3 * 4 = 12\t4 * 4 = 16\t5 * 4 = 20\t6 * 4 = 24\t7 * 4 = 28\t8 * 4 = 32\t9 * 4 = 36\t\n",
      "1 * 5 = 5\t2 * 5 = 10\t3 * 5 = 15\t4 * 5 = 20\t5 * 5 = 25\t6 * 5 = 30\t7 * 5 = 35\t8 * 5 = 40\t9 * 5 = 45\t\n",
      "1 * 6 = 6\t2 * 6 = 12\t3 * 6 = 18\t4 * 6 = 24\t5 * 6 = 30\t6 * 6 = 36\t7 * 6 = 42\t8 * 6 = 48\t9 * 6 = 54\t\n",
      "1 * 7 = 7\t2 * 7 = 14\t3 * 7 = 21\t4 * 7 = 28\t5 * 7 = 35\t6 * 7 = 42\t7 * 7 = 49\t8 * 7 = 56\t9 * 7 = 63\t\n",
      "1 * 8 = 8\t2 * 8 = 16\t3 * 8 = 24\t4 * 8 = 32\t5 * 8 = 40\t6 * 8 = 48\t7 * 8 = 56\t8 * 8 = 64\t9 * 8 = 72\t\n",
      "1 * 9 = 9\t2 * 9 = 18\t3 * 9 = 27\t4 * 9 = 36\t5 * 9 = 45\t6 * 9 = 54\t7 * 9 = 63\t8 * 9 = 72\t9 * 9 = 81\t\n",
      "1 * 10 = 10\t2 * 10 = 20\t3 * 10 = 30\t4 * 10 = 40\t5 * 10 = 50\t6 * 10 = 60\t7 * 10 = 70\t8 * 10 = 80\t9 * 10 = 90\t\n"
     ]
    }
   ],
   "source": [
    "# Tables from 2 to 9\n",
    "for i in range(1, 11):\n",
    "    for j in range(1, 10):\n",
    "        print(f\"{j} * {i} = {j*i}\", end=\"\\t\")\n",
    "    print()  "
   ]
  },
  {
   "cell_type": "code",
   "execution_count": 25,
   "id": "030a5830-3ce6-44bd-9d03-f989e8816609",
   "metadata": {},
   "outputs": [
    {
     "name": "stdin",
     "output_type": "stream",
     "text": [
      "Enter no of rows 9\n"
     ]
    },
    {
     "name": "stdout",
     "output_type": "stream",
     "text": [
      "\n",
      "* \n",
      "* * \n",
      "* * * \n",
      "* * * * \n",
      "* * * * * \n",
      "* * * * * * \n",
      "* * * * * * * \n",
      "* * * * * * * * \n",
      "* * * * * * * * * \n"
     ]
    }
   ],
   "source": [
    "#star pattern\n",
    "rows=int(input(\"Enter no of rows\"))\n",
    "for i in range(rows+1):\n",
    "    for j in range(1,i+1):\n",
    "        print(\"*\",end=\" \")\n",
    "    print()"
   ]
  },
  {
   "cell_type": "code",
   "execution_count": 34,
   "id": "e783a29c-c03b-4c98-99da-ded6f99d36a7",
   "metadata": {},
   "outputs": [
    {
     "name": "stdout",
     "output_type": "stream",
     "text": [
      "1\n",
      "2\n",
      "3\n",
      "4\n",
      "5\n",
      "6\n",
      "7\n",
      "8\n",
      "9\n",
      "10\n"
     ]
    }
   ],
   "source": [
    "#While loop\n",
    "num=1\n",
    "while num <=10:\n",
    "    print(num)\n",
    "    num+=1"
   ]
  },
  {
   "cell_type": "code",
   "execution_count": 38,
   "id": "a2b11316-145e-44b9-b371-aa1c4ab0bf7e",
   "metadata": {},
   "outputs": [
    {
     "name": "stdout",
     "output_type": "stream",
     "text": [
      "2\n",
      "4\n",
      "6\n",
      "8\n",
      "10\n",
      "12\n",
      "14\n",
      "16\n",
      "18\n",
      "20\n"
     ]
    }
   ],
   "source": [
    "num=1\n",
    "while num <=10:\n",
    "    print(num*2)\n",
    "    num+=1"
   ]
  },
  {
   "cell_type": "code",
   "execution_count": 40,
   "id": "98ed9e37-48d7-47bc-b2b1-3e22d7f0a118",
   "metadata": {},
   "outputs": [
    {
     "name": "stdin",
     "output_type": "stream",
     "text": [
      "Guess the number: 4\n"
     ]
    },
    {
     "name": "stdout",
     "output_type": "stream",
     "text": [
      "Too low\n"
     ]
    },
    {
     "name": "stdin",
     "output_type": "stream",
     "text": [
      "Guess the number: 9\n"
     ]
    },
    {
     "name": "stdout",
     "output_type": "stream",
     "text": [
      "Too High\n"
     ]
    },
    {
     "name": "stdin",
     "output_type": "stream",
     "text": [
      "Guess the number: 7\n"
     ]
    },
    {
     "name": "stdout",
     "output_type": "stream",
     "text": [
      "Guess correct\n",
      "3\n"
     ]
    }
   ],
   "source": [
    "import random\n",
    "unknown=random.randint(1,100)\n",
    "guess=None\n",
    "attempts=0\n",
    "while guess != unknown:\n",
    "    guess=int(input(\"Guess the number:\"))\n",
    "    attempts +=1\n",
    "    if guess< unknown:\n",
    "        print(\"Too low\")\n",
    "    elif guess>unknown:\n",
    "        print(\"Too High\")\n",
    "    else:\n",
    "        print(\"Guess correct\")\n",
    "        print(\"attemt\",attempts)"
   ]
  },
  {
   "cell_type": "code",
   "execution_count": null,
   "id": "d61f33e9-6a7a-4720-9c1e-817ab107a3d4",
   "metadata": {},
   "outputs": [],
   "source": []
  }
 ],
 "metadata": {
  "kernelspec": {
   "display_name": "Python 3 (ipykernel)",
   "language": "python",
   "name": "python3"
  },
  "language_info": {
   "codemirror_mode": {
    "name": "ipython",
    "version": 3
   },
   "file_extension": ".py",
   "mimetype": "text/x-python",
   "name": "python",
   "nbconvert_exporter": "python",
   "pygments_lexer": "ipython3",
   "version": "3.12.7"
  }
 },
 "nbformat": 4,
 "nbformat_minor": 5
}
