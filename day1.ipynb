{
 "cells": [
  {
   "cell_type": "markdown",
   "id": "8ac7dd28-e7da-4c6a-b1b2-57e4112dad40",
   "metadata": {},
   "source": [
    "import keyword\n",
    "print(keyword.kwlist)"
   ]
  },
  {
   "cell_type": "code",
   "execution_count": 1,
   "id": "f3868ec4-1818-4133-81fc-f858f3a53721",
   "metadata": {},
   "outputs": [
    {
     "name": "stdout",
     "output_type": "stream",
     "text": [
      "['False', 'None', 'True', 'and', 'as', 'assert', 'async', 'await', 'break', 'class', 'continue', 'def', 'del', 'elif', 'else', 'except', 'finally', 'for', 'from', 'global', 'if', 'import', 'in', 'is', 'lambda', 'nonlocal', 'not', 'or', 'pass', 'raise', 'return', 'try', 'while', 'with', 'yield']\n"
     ]
    }
   ],
   "source": [
    "import keyword\n",
    "print(keyword.kwlist)"
   ]
  },
  {
   "cell_type": "code",
   "execution_count": 2,
   "id": "517e13de-742e-4836-85fc-3d00cf16f892",
   "metadata": {},
   "outputs": [
    {
     "data": {
      "text/plain": [
       "35"
      ]
     },
     "execution_count": 2,
     "metadata": {},
     "output_type": "execute_result"
    }
   ],
   "source": [
    "len(keyword.kwlist)"
   ]
  },
  {
   "cell_type": "code",
   "execution_count": 4,
   "id": "fe685795-dfb5-47e8-9b02-4af3b63da61d",
   "metadata": {},
   "outputs": [
    {
     "name": "stdout",
     "output_type": "stream",
     "text": [
      "Dinesh baiii\n"
     ]
    }
   ],
   "source": [
    " name=\"Dinesh baiii\"\n",
    "print(name)"
   ]
  },
  {
   "cell_type": "code",
   "execution_count": 5,
   "id": "5d3b18e4-cf56-481d-83b1-f59895ee43fa",
   "metadata": {},
   "outputs": [
    {
     "name": "stdout",
     "output_type": "stream",
     "text": [
      "0x1a977c56d30\n"
     ]
    }
   ],
   "source": [
    "print(hex(id(name)))"
   ]
  },
  {
   "cell_type": "code",
   "execution_count": 6,
   "id": "15f7a39d-43fa-4698-93d1-bb15d7be5b50",
   "metadata": {},
   "outputs": [
    {
     "name": "stdout",
     "output_type": "stream",
     "text": [
      "30\n"
     ]
    }
   ],
   "source": [
    "sum=10+20\n",
    "print(sum)"
   ]
  },
  {
   "cell_type": "code",
   "execution_count": 7,
   "id": "976282e3-fdd1-4bdc-ae6a-c18b282db328",
   "metadata": {},
   "outputs": [
    {
     "name": "stdout",
     "output_type": "stream",
     "text": [
      "0x7ff8858a2d58\n"
     ]
    }
   ],
   "source": [
    "print(hex(id(sum)))"
   ]
  },
  {
   "cell_type": "code",
   "execution_count": 8,
   "id": "13a63b1e-11db-4654-92ec-646378e21d97",
   "metadata": {},
   "outputs": [
    {
     "name": "stdout",
     "output_type": "stream",
     "text": [
      "30\n"
     ]
    }
   ],
   "source": [
    "a=10\n",
    "b=20\n",
    "c=a+b\n",
    "print(c)"
   ]
  },
  {
   "cell_type": "code",
   "execution_count": 10,
   "id": "3de9249b-31d1-471b-bd9b-f9fd8a8bc340",
   "metadata": {},
   "outputs": [
    {
     "name": "stdin",
     "output_type": "stream",
     "text": [
      "Enter any number 10\n",
      "Enter any number 30\n"
     ]
    },
    {
     "name": "stdout",
     "output_type": "stream",
     "text": [
      "40\n"
     ]
    }
   ],
   "source": [
    "a=int(input(\"Enter any number\"))\n",
    "b=int(input(\"Enter any number\"))\n",
    "c=a+b\n",
    "print(c)"
   ]
  },
  {
   "cell_type": "code",
   "execution_count": 13,
   "id": "1f1d6ee2-95f7-4cd3-a6af-757d8b702de7",
   "metadata": {},
   "outputs": [
    {
     "name": "stdin",
     "output_type": "stream",
     "text": [
      "Enter your f name iujiuj\n",
      "Enter your l name kkk\n"
     ]
    },
    {
     "name": "stdout",
     "output_type": "stream",
     "text": [
      "iujiuj||kkk\n"
     ]
    }
   ],
   "source": [
    "f_name=input(\"Enter your f name\")\n",
    "l_name=input(\"Enter your l name\")\n",
    "print(f_name+\"||\"+l_name)\n",
    "\n"
   ]
  },
  {
   "cell_type": "code",
   "execution_count": 14,
   "id": "11d2075d-25f4-43f8-947a-44bf3e0dc3be",
   "metadata": {},
   "outputs": [
    {
     "name": "stdout",
     "output_type": "stream",
     "text": [
      "iujiuj||kkk\n"
     ]
    }
   ],
   "source": [
    "print(f_name,l_name,sep=\"||\")"
   ]
  },
  {
   "cell_type": "code",
   "execution_count": 15,
   "id": "9b7f9266-0750-4d40-a22c-74e328aa8612",
   "metadata": {},
   "outputs": [
    {
     "name": "stdout",
     "output_type": "stream",
     "text": [
      "iujiuj kkk\n"
     ]
    }
   ],
   "source": [
    "print(f_name,end=\" \")\n",
    "print(l_name)"
   ]
  },
  {
   "cell_type": "code",
   "execution_count": 17,
   "id": "acf8972f-1685-4d93-9959-c3438d362072",
   "metadata": {},
   "outputs": [
    {
     "name": "stdout",
     "output_type": "stream",
     "text": [
      "10||20||5.6|"
     ]
    }
   ],
   "source": [
    "a,b,c=\"10\",20,5.6\n",
    "print(a,b,c,sep=\"||\",end=\"|\")"
   ]
  },
  {
   "cell_type": "code",
   "execution_count": 18,
   "id": "d174c322-1d27-404f-b276-422d51b2ab56",
   "metadata": {},
   "outputs": [
    {
     "name": "stdout",
     "output_type": "stream",
     "text": [
      "my first name is iujiuj MY last name is kkk\n"
     ]
    }
   ],
   "source": [
    "print(\"my first name is\",f_name,\"MY last name is\",l_name)"
   ]
  },
  {
   "cell_type": "code",
   "execution_count": 19,
   "id": "04e529ee-268c-436b-a75b-75ff2905abb5",
   "metadata": {},
   "outputs": [
    {
     "name": "stdout",
     "output_type": "stream",
     "text": [
      "my first name isiujiuj MY last name iskkk\n"
     ]
    }
   ],
   "source": [
    "#format method\n",
    "print(\"my first name is{} MY last name is{}\".format(f_name,l_name))"
   ]
  },
  {
   "cell_type": "code",
   "execution_count": 20,
   "id": "bbdece72-a6ea-4d91-a4a1-433b7f59439a",
   "metadata": {},
   "outputs": [
    {
     "name": "stdout",
     "output_type": "stream",
     "text": [
      "my first name iskkk MY last name isiujiuj\n"
     ]
    }
   ],
   "source": [
    "print(\"my first name is{1} MY last name is{0}\".format(f_name,l_name))"
   ]
  },
  {
   "cell_type": "code",
   "execution_count": 21,
   "id": "95b6e8f8-5ad6-4455-a542-5d439f5bbceb",
   "metadata": {},
   "outputs": [
    {
     "name": "stdout",
     "output_type": "stream",
     "text": [
      "my first name isiujiuj MY last name iskkk\n"
     ]
    }
   ],
   "source": [
    "#f-string\n",
    "print(f\"my first name is{f_name} MY last name is{l_name}\")"
   ]
  },
  {
   "cell_type": "code",
   "execution_count": 23,
   "id": "e9801cdf-e630-4569-a0a3-5e21cc00f4c1",
   "metadata": {},
   "outputs": [
    {
     "name": "stdout",
     "output_type": "stream",
     "text": [
      "<class 'int'>\n",
      "<class 'float'>\n",
      "<class 'bool'>\n"
     ]
    }
   ],
   "source": [
    "#data types\n",
    "x=10\n",
    "print(type(x))\n",
    "y=50.2\n",
    "print(type(y))\n",
    "z=True\n",
    "print(type(z))"
   ]
  },
  {
   "cell_type": "code",
   "execution_count": 25,
   "id": "2501b722-5e62-4df3-952d-37991abed85d",
   "metadata": {},
   "outputs": [
    {
     "name": "stdout",
     "output_type": "stream",
     "text": [
      "<class 'list'>\n",
      "[1, 2, 30, 4]\n"
     ]
    }
   ],
   "source": [
    "#list\n",
    "mylist=[1,2,3,4]\n",
    "print(type(mylist))\n",
    "#list are mutable\n",
    "mylist[2]=30\n",
    "print(mylist)"
   ]
  },
  {
   "cell_type": "code",
   "execution_count": 27,
   "id": "c2308cc8-3f8f-4538-b09a-70afcb34e300",
   "metadata": {},
   "outputs": [
    {
     "name": "stdout",
     "output_type": "stream",
     "text": [
      "(1, 2, 3, 4)\n"
     ]
    }
   ],
   "source": [
    "#tuple\n",
    "mytuple=(1,2,3,4)\n",
    "#mytuple[2]=30\n",
    "print(mytuple)\n"
   ]
  },
  {
   "cell_type": "code",
   "execution_count": null,
   "id": "933a7a2a-fdb1-42e7-a084-7e69c294b70b",
   "metadata": {},
   "outputs": [],
   "source": []
  }
 ],
 "metadata": {
  "kernelspec": {
   "display_name": "Python 3 (ipykernel)",
   "language": "python",
   "name": "python3"
  },
  "language_info": {
   "codemirror_mode": {
    "name": "ipython",
    "version": 3
   },
   "file_extension": ".py",
   "mimetype": "text/x-python",
   "name": "python",
   "nbconvert_exporter": "python",
   "pygments_lexer": "ipython3",
   "version": "3.12.7"
  }
 },
 "nbformat": 4,
 "nbformat_minor": 5
}
