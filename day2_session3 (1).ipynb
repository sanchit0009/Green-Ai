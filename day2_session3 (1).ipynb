{
 "cells": [
  {
   "cell_type": "code",
   "execution_count": 9,
   "id": "9f1b7f4a-c8cc-4557-a07a-b5b3d3a52212",
   "metadata": {},
   "outputs": [
    {
     "name": "stdout",
     "output_type": "stream",
     "text": [
      "Welcome to the Guessing Game!\n",
      "I'm thinking of a number between 1 and 100. Try to guess it.\n"
     ]
    },
    {
     "name": "stdin",
     "output_type": "stream",
     "text": [
      "Your guess:  777\n"
     ]
    },
    {
     "name": "stdout",
     "output_type": "stream",
     "text": [
      "Too high. Try again.\n"
     ]
    },
    {
     "name": "stdin",
     "output_type": "stream",
     "text": [
      "Your guess:  30\n"
     ]
    },
    {
     "name": "stdout",
     "output_type": "stream",
     "text": [
      "Too high. Try again.\n"
     ]
    },
    {
     "name": "stdin",
     "output_type": "stream",
     "text": [
      "Your guess:  20\n"
     ]
    },
    {
     "name": "stdout",
     "output_type": "stream",
     "text": [
      "Too high. Try again.\n"
     ]
    },
    {
     "name": "stdin",
     "output_type": "stream",
     "text": [
      "Your guess:  10\n"
     ]
    },
    {
     "name": "stdout",
     "output_type": "stream",
     "text": [
      "Too low. Try again.\n"
     ]
    },
    {
     "name": "stdin",
     "output_type": "stream",
     "text": [
      "Your guess:  15\n"
     ]
    },
    {
     "name": "stdout",
     "output_type": "stream",
     "text": [
      "Too low. Try again.\n"
     ]
    },
    {
     "name": "stdin",
     "output_type": "stream",
     "text": [
      "Your guess:  17\n"
     ]
    },
    {
     "name": "stdout",
     "output_type": "stream",
     "text": [
      "Too low. Try again.\n"
     ]
    },
    {
     "name": "stdin",
     "output_type": "stream",
     "text": [
      "Your guess:  19\n"
     ]
    },
    {
     "name": "stdout",
     "output_type": "stream",
     "text": [
      "Too high. Try again.\n"
     ]
    },
    {
     "name": "stdin",
     "output_type": "stream",
     "text": [
      "Your guess:  18\n"
     ]
    },
    {
     "name": "stdout",
     "output_type": "stream",
     "text": [
      "Congratulations! You guessed the number correctly!\n",
      "It took you 8 attempts.\n",
      "According to me, pani anyla kon janar: Dinesh\n",
      "Thanks for playing!\n"
     ]
    }
   ],
   "source": [
    "import random\n",
    "\n",
    "unknown = random.randint(1, 100)\n",
    "guess = None\n",
    "attempts = 0\n",
    "names = [\"narayan\", \"Dinesh\", \"Sanchit\"]\n",
    "\n",
    "print(\"Welcome to the Guessing Game!\")\n",
    "print(\"I'm thinking of a number between 1 and 100. Try to guess it.\")\n",
    "\n",
    "while guess != unknown:\n",
    "    try:\n",
    "        guess = int(input(\"Your guess: \"))\n",
    "        attempts += 1\n",
    "        if guess < unknown:\n",
    "            print(\"Too low. Try again.\")\n",
    "        elif guess > unknown:\n",
    "            print(\"Too high. Try again.\")\n",
    "        else:\n",
    "            print(\"Congratulations! You guessed the number correctly!\")\n",
    "            print(\"It took you\", attempts, \"attempts.\")\n",
    "            selected_name = random.choice(names)\n",
    "            print(\"According to me, pani anyla kon janar:\", selected_name)\n",
    "            break  # Exit the loop\n",
    "    except ValueError:\n",
    "        print(\"Invalid input. Please enter a whole number.\")\n",
    "\n",
    "print(\"Thanks for playing!\")"
   ]
  },
  {
   "cell_type": "code",
   "execution_count": 10,
   "id": "046877a8-763d-4fba-9b46-a45f52b186a5",
   "metadata": {},
   "outputs": [
    {
     "name": "stdout",
     "output_type": "stream",
     "text": [
      "9\n"
     ]
    }
   ],
   "source": [
    "#function-block  of code\n",
    "def add():\n",
    "    print(2+7)\n",
    "add()"
   ]
  },
  {
   "cell_type": "code",
   "execution_count": 11,
   "id": "7aea2ad7-99c9-4ec6-925f-6eddbe793b5b",
   "metadata": {},
   "outputs": [
    {
     "name": "stdout",
     "output_type": "stream",
     "text": [
      "9\n"
     ]
    }
   ],
   "source": [
    "def sub():\n",
    "    print(11-2)\n",
    "sub()"
   ]
  },
  {
   "cell_type": "code",
   "execution_count": 12,
   "id": "3be5d835-0bb0-432f-9f8e-029df8b4d9ce",
   "metadata": {},
   "outputs": [
    {
     "name": "stdout",
     "output_type": "stream",
     "text": [
      "70\n"
     ]
    }
   ],
   "source": [
    "def addition(a,b):\n",
    "    print(a+b)\n",
    "addition(30,40)\n",
    "    "
   ]
  },
  {
   "cell_type": "code",
   "execution_count": 14,
   "id": "79475e1b-2878-4431-b4d1-1936b785cb86",
   "metadata": {},
   "outputs": [
    {
     "name": "stdout",
     "output_type": "stream",
     "text": [
      "My name is sanchit\n"
     ]
    }
   ],
   "source": [
    "def name(a):\n",
    "    print(\"My name is\",a)\n",
    "name(\"sanchit\")"
   ]
  },
  {
   "cell_type": "code",
   "execution_count": 15,
   "id": "8541c714-3915-4545-aabc-dc1b2abd7e72",
   "metadata": {},
   "outputs": [
    {
     "name": "stdout",
     "output_type": "stream",
     "text": [
      "1\n",
      "2\n",
      "34\n",
      "5\n",
      "5\n"
     ]
    }
   ],
   "source": [
    "#Function with arbitary arguments\n",
    "def numbers(*args):\n",
    "    for i in args:\n",
    "        print(i)\n",
    "numbers(1,2,34,5,5,)"
   ]
  },
  {
   "cell_type": "code",
   "execution_count": 19,
   "id": "d4d0e384-3c0e-435a-9285-7e0b10b0d471",
   "metadata": {},
   "outputs": [
    {
     "name": "stdout",
     "output_type": "stream",
     "text": [
      "Even numbers: [2, 34, 6, 8]\n",
      "Odd numbers: [1, 5, 7, 9]\n"
     ]
    }
   ],
   "source": [
    "def even_odd(*num):\n",
    "    even = []\n",
    "    odd = []\n",
    "    for i in num:\n",
    "        if i % 2 == 0:\n",
    "            even.append(i)\n",
    "        else:\n",
    "            odd.append(i)\n",
    "    print(\"Even numbers:\", even)\n",
    "    print(\"Odd numbers:\", odd)\n",
    "\n",
    "even_odd(1, 2, 34, 5, 6, 7, 8, 9)"
   ]
  },
  {
   "cell_type": "code",
   "execution_count": 22,
   "id": "40cfd80f-a320-4252-8539-ef9899545af5",
   "metadata": {},
   "outputs": [
    {
     "name": "stdout",
     "output_type": "stream",
     "text": [
      "Unlocked\n"
     ]
    }
   ],
   "source": [
    "#User Login\n",
    "def login(username,password):\n",
    "    if username==\"Sanchit\" and password==9999:\n",
    "        print(\"Unlocked\")\n",
    "    else:\n",
    "        print(\"Invalid\")\n",
    "login(\"Sanchit\",9999)"
   ]
  },
  {
   "cell_type": "code",
   "execution_count": null,
   "id": "c6ebaa6f-c892-4739-89a6-677e003b1804",
   "metadata": {},
   "outputs": [],
   "source": [
    "#Lambada-small anonymous names less fun\n",
    "x=lambda a: a+10\n",
    "print(x(9))"
   ]
  }
 ],
 "metadata": {
  "kernelspec": {
   "display_name": "Python 3 (ipykernel)",
   "language": "python",
   "name": "python3"
  },
  "language_info": {
   "codemirror_mode": {
    "name": "ipython",
    "version": 3
   },
   "file_extension": ".py",
   "mimetype": "text/x-python",
   "name": "python",
   "nbconvert_exporter": "python",
   "pygments_lexer": "ipython3",
   "version": "3.12.7"
  }
 },
 "nbformat": 4,
 "nbformat_minor": 5
}
